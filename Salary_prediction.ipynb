{
  "nbformat": 4,
  "nbformat_minor": 0,
  "metadata": {
    "colab": {
      "name": "Model-2.ipynb",
      "provenance": [],
      "authorship_tag": "ABX9TyNvzWEtaGLk6UKUkFZA6GpV",
      "include_colab_link": true
    },
    "kernelspec": {
      "name": "python3",
      "display_name": "Python 3"
    },
    "language_info": {
      "name": "python"
    }
  },
  "cells": [
    {
      "cell_type": "markdown",
      "metadata": {
        "id": "view-in-github",
        "colab_type": "text"
      },
      "source": [
        "<a href=\"https://colab.research.google.com/github/Manish-k723/ML-models/blob/main/Model_2.ipynb\" target=\"_parent\"><img src=\"https://colab.research.google.com/assets/colab-badge.svg\" alt=\"Open In Colab\"/></a>"
      ]
    },
    {
      "cell_type": "code",
      "execution_count": null,
      "metadata": {
        "colab": {
          "base_uri": "https://localhost:8080/"
        },
        "id": "uegkIyWWbQ6A",
        "outputId": "3e196d37-3a23-413e-808d-1c1d11328d0e"
      },
      "outputs": [
        {
          "output_type": "stream",
          "name": "stdout",
          "text": [
            "[ 1  2  3  4  5  6  7  8  9 10]\n",
            "[25192 27751 40609 41440 51228 63757 69100 70057 93349 97708]\n"
          ]
        }
      ],
      "source": [
        "#Linear Model, Ml\n",
        "# 1. Taking Data and Creating Dataframe\n",
        "\n",
        "import numpy as np\n",
        "experience = np.arange(1,11)\n",
        "np.random.seed(1)\n",
        "salary = np.random.randint(20000,100000,10)\n",
        "salary = np.sort(salary)\n",
        "print(experience)\n",
        "print(salary)"
      ]
    },
    {
      "cell_type": "code",
      "source": [
        "#3. Data visualization\n",
        "import matplotlib.pyplot as plt\n",
        "plt.scatter(experience,salary)"
      ],
      "metadata": {
        "colab": {
          "base_uri": "https://localhost:8080/",
          "height": 283
        },
        "id": "6mShXEQWfFPT",
        "outputId": "2538915b-ce2e-492d-cbdb-9e28783f0e5e"
      },
      "execution_count": null,
      "outputs": [
        {
          "output_type": "execute_result",
          "data": {
            "text/plain": [
              "<matplotlib.collections.PathCollection at 0x7f8b6545ef50>"
            ]
          },
          "metadata": {},
          "execution_count": 9
        },
        {
          "output_type": "display_data",
          "data": {
            "text/plain": [
              "<Figure size 432x288 with 1 Axes>"
            ],
            "image/png": "[encoded data removed]"
          },
          "metadata": {
            "needs_background": "light"
          }
        }
      ]
    },
    {
      "cell_type": "code",
      "source": [
        "#Divide the data into input and output\n",
        "#Input has to be always 2-dimensional\n",
        "x=experience.reshape(-1,1)\n",
        "print(x)"
      ],
      "metadata": {
        "colab": {
          "base_uri": "https://localhost:8080/"
        },
        "id": "jqfio1wFfeiL",
        "outputId": "29e11989-be6c-44e9-cce2-c47b6f9dc549"
      },
      "execution_count": null,
      "outputs": [
        {
          "output_type": "stream",
          "name": "stdout",
          "text": [
            "[[ 1]\n",
            " [ 2]\n",
            " [ 3]\n",
            " [ 4]\n",
            " [ 5]\n",
            " [ 6]\n",
            " [ 7]\n",
            " [ 8]\n",
            " [ 9]\n",
            " [10]]\n"
          ]
        }
      ]
    },
    {
      "cell_type": "code",
      "source": [
        "y = salary\n",
        "y"
      ],
      "metadata": {
        "colab": {
          "base_uri": "https://localhost:8080/"
        },
        "id": "4C2jM78Kfe6G",
        "outputId": "9105e0da-abc5-499b-bb2d-cd582c43ed64"
      },
      "execution_count": null,
      "outputs": [
        {
          "output_type": "execute_result",
          "data": {
            "text/plain": [
              "array([25192, 27751, 40609, 41440, 51228, 63757, 69100, 70057, 93349,\n",
              "       97708])"
            ]
          },
          "metadata": {},
          "execution_count": 19
        }
      ]
    },
    {
      "cell_type": "code",
      "source": [
        "#Run a Classifier/Regressor/Clusterer\n",
        "from sklearn.linear_model import LinearRegression\n",
        "model = LinearRegression()"
      ],
      "metadata": {
        "id": "lPriC8GYffIe"
      },
      "execution_count": null,
      "outputs": []
    },
    {
      "cell_type": "code",
      "source": [
        "#fitting the model\n",
        "model.fit(x,y)"
      ],
      "metadata": {
        "colab": {
          "base_uri": "https://localhost:8080/"
        },
        "id": "bX941T5Jg8nd",
        "outputId": "a95f5bf6-b8b4-49e7-e166-e6c247e58868"
      },
      "execution_count": null,
      "outputs": [
        {
          "output_type": "execute_result",
          "data": {
            "text/plain": [
              "LinearRegression()"
            ]
          },
          "metadata": {},
          "execution_count": 22
        }
      ]
    },
    {
      "cell_type": "code",
      "source": [
        "#Predict the output\n",
        "y_pred = model.predict(x)#using the input values, we predict the output\n",
        "y_pred"
      ],
      "metadata": {
        "colab": {
          "base_uri": "https://localhost:8080/"
        },
        "id": "d0TF_W5AhOUr",
        "outputId": "e9179a4e-23fd-4851-c0c6-3672ab0190cb"
      },
      "execution_count": null,
      "outputs": [
        {
          "output_type": "execute_result",
          "data": {
            "text/plain": [
              "array([21076.03636364, 29285.60606061, 37495.17575758, 45704.74545455,\n",
              "       53914.31515152, 62123.88484848, 70333.45454545, 78543.02424242,\n",
              "       86752.59393939, 94962.16363636])"
            ]
          },
          "metadata": {},
          "execution_count": 24
        }
      ]
    },
    {
      "cell_type": "code",
      "source": [
        "y"
      ],
      "metadata": {
        "colab": {
          "base_uri": "https://localhost:8080/"
        },
        "id": "NyX_eOWkhsEt",
        "outputId": "c7b6f904-7dcb-4e78-d723-526f8c187bf0"
      },
      "execution_count": null,
      "outputs": [
        {
          "output_type": "execute_result",
          "data": {
            "text/plain": [
              "array([25192, 27751, 40609, 41440, 51228, 63757, 69100, 70057, 93349,\n",
              "       97708])"
            ]
          },
          "metadata": {},
          "execution_count": 25
        }
      ]
    },
    {
      "cell_type": "code",
      "source": [
        "# Individual Prediction\n",
        "model.predict([[2.5]])"
      ],
      "metadata": {
        "colab": {
          "base_uri": "https://localhost:8080/"
        },
        "id": "vbgFhU0shwO6",
        "outputId": "914303f6-857f-4797-94bf-e54b353a24b3"
      },
      "execution_count": null,
      "outputs": [
        {
          "output_type": "execute_result",
          "data": {
            "text/plain": [
              "array([33390.39090909])"
            ]
          },
          "metadata": {},
          "execution_count": 26
        }
      ]
    },
    {
      "cell_type": "code",
      "source": [
        "#Cross verification\n",
        "m=model.coef_\n",
        "C=model.intercept_\n",
        "print(m,C)"
      ],
      "metadata": {
        "colab": {
          "base_uri": "https://localhost:8080/"
        },
        "id": "NAF4iiXuh6rR",
        "outputId": "7ed14745-a023-4dfa-bd29-4a1e357a898f"
      },
      "execution_count": null,
      "outputs": [
        {
          "output_type": "stream",
          "name": "stdout",
          "text": [
            "[8209.56969697] 12866.466666666682\n"
          ]
        }
      ]
    },
    {
      "cell_type": "code",
      "source": [
        "m*10.5+C"
      ],
      "metadata": {
        "colab": {
          "base_uri": "https://localhost:8080/"
        },
        "id": "k25DyAXnh76W",
        "outputId": "4f8903c8-2b12-40b5-ee34-6fdfa8c6e122"
      },
      "execution_count": null,
      "outputs": [
        {
          "output_type": "execute_result",
          "data": {
            "text/plain": [
              "array([99066.94848485])"
            ]
          },
          "metadata": {},
          "execution_count": 37
        }
      ]
    },
    {
      "cell_type": "code",
      "source": [
        "#Visualization -for best fit line\n",
        "plt.scatter(x,y)\n",
        "plt.plot(x,y_pred,c='orange')"
      ],
      "metadata": {
        "colab": {
          "base_uri": "https://localhost:8080/",
          "height": 282
        },
        "id": "gZ5XBhmBmpK3",
        "outputId": "8cf8b6b2-e83f-457b-9b93-9e00f9a7471b"
      },
      "execution_count": null,
      "outputs": [
        {
          "output_type": "execute_result",
          "data": {
            "text/plain": [
              "[<matplotlib.lines.Line2D at 0x7f8b58129790>]"
            ]
          },
          "metadata": {},
          "execution_count": 35
        },
        {
          "output_type": "display_data",
          "data": {
            "text/plain": [
              "<Figure size 432x288 with 1 Axes>"
            ],
            "image/png": "[encoded data removed]"
          },
          "metadata": {
            "needs_background": "light"
          }
        }
      ]
    },
    {
      "cell_type": "markdown",
      "source": [
        "\n",
        "\n",
        "*   List item\n",
        "*   List item\n",
        "\n"
      ],
      "metadata": {
        "id": "dwUyBF8woaTk"
      }
    },
    {
      "cell_type": "code",
      "source": [
        "model.predict([[10.5]])"
      ],
      "metadata": {
        "colab": {
          "base_uri": "https://localhost:8080/"
        },
        "id": "Dp0SqWAQnbZE",
        "outputId": "1d1062cb-9e4a-40f1-c667-09530be0665e"
      },
      "execution_count": null,
      "outputs": [
        {
          "output_type": "execute_result",
          "data": {
            "text/plain": [
              "array([99066.94848485])"
            ]
          },
          "metadata": {},
          "execution_count": 36
        }
      ]
    },
    {
      "cell_type": "code",
      "source": [
        "#Normalization\n",
        "#1. Before Normalization\n",
        "import numpy as np\n",
        "import matplotlib.pyplot as plt\n",
        "np.random.seed(1)\n",
        "x1=np.random.randint(1,50,30)\n",
        "x1=np.sort(x1)\n",
        "x2=np.random.randint(10000,70000,30)\n",
        "plt.plot(x1,x2)"
      ],
      "metadata": {
        "colab": {
          "base_uri": "https://localhost:8080/",
          "height": 283
        },
        "id": "w07AWIKJocE5",
        "outputId": "60afcba0-82b3-4085-c65c-a086be023d04"
      },
      "execution_count": null,
      "outputs": [
        {
          "output_type": "execute_result",
          "data": {
            "text/plain": [
              "[<matplotlib.lines.Line2D at 0x7f8b57f330d0>]"
            ]
          },
          "metadata": {},
          "execution_count": 38
        },
        {
          "output_type": "display_data",
          "data": {
            "text/plain": [
              "<Figure size 432x288 with 1 Axes>"
            ],
            "image/png": "[encoded data removed]"
          },
          "metadata": {
            "needs_background": "light"
          }
        }
      ]
    },
    {
      "cell_type": "code",
      "source": [
        "#These graohs are nowhere related to MACHINE LEARING, They are just for understanding scaling\n",
        "\n",
        "#2. After Normalization\n",
        "x1min=min(x1)\n",
        "x1max=max(x1)\n",
        "x2min=min(x2)\n",
        "x2max=max(x2)\n",
        "x1norm = (x1-x1min)/(x1max-x1min)\n",
        "x2norm = (x2-x2min)/(x2max-x2min)\n",
        "plt.plot(x1norm,x2norm)"
      ],
      "metadata": {
        "colab": {
          "base_uri": "https://localhost:8080/",
          "height": 282
        },
        "id": "myxQphtDpJGm",
        "outputId": "842e86db-d58b-4f4d-e3af-2d6052a8e3ce"
      },
      "execution_count": null,
      "outputs": [
        {
          "output_type": "execute_result",
          "data": {
            "text/plain": [
              "[<matplotlib.lines.Line2D at 0x7f8b581406d0>]"
            ]
          },
          "metadata": {},
          "execution_count": 39
        },
        {
          "output_type": "display_data",
          "data": {
            "text/plain": [
              "<Figure size 432x288 with 1 Axes>"
            ],
            "image/png": "[encoded data removed]"
          },
          "metadata": {
            "needs_background": "light"
          }
        }
      ]
    }
  ]
}
